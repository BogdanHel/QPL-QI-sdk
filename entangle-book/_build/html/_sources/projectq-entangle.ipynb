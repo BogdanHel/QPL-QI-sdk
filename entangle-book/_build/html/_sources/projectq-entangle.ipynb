{
 "cells": [
  {
   "cell_type": "markdown",
   "metadata": {},
   "source": [
    "## Projectq entangle\n"
   ]
  },
  {
   "cell_type": "markdown",
   "metadata": {},
   "source": [
    "This example is copied from https://github.com/ProjectQ-Framework/ProjectQ and is covered under the Apache 2.0 license."
   ]
  },
  {
   "cell_type": "code",
   "execution_count": null,
   "metadata": {},
   "outputs": [],
   "source": [
    "import os\n",
    "\n",
    "from projectq import MainEngine\n",
    "from projectq.backends import ResourceCounter\n",
    "from projectq.ops import CNOT, H, Measure, All\n",
    "from projectq.setups import restrictedgateset\n",
    "\n",
    "from quantuminspire.api import QuantumInspireAPI\n",
    "from quantuminspire.credentials import get_authentication\n",
    "\n",
    "from quantuminspire.credentials import enable_account\n",
    "enable_account('b70fbdd4cbcde00319c844ff1ce39f8e7d0b81f9')\n",
    "\n",
    "from quantuminspire.projectq.backend_qx import QIBackend\n",
    "\n",
    "QI_URL = os.getenv('API_URL', 'https://api.quantum-inspire.com/')\n",
    "\n",
    "\n",
    "project_name = 'ProjectQ-entangle'\n",
    "authentication = get_authentication()\n",
    "qi_api = QuantumInspireAPI(QI_URL, authentication, project_name=project_name)\n",
    "qi_backend = QIBackend(quantum_inspire_api=qi_api)\n",
    "\n",
    "compiler_engines = restrictedgateset.get_engine_list(one_qubit_gates=qi_backend.one_qubit_gates,\n",
    "                                                     two_qubit_gates=qi_backend.two_qubit_gates)\n",
    "compiler_engines.extend([ResourceCounter()])\n",
    "engine = MainEngine(backend=qi_backend, engine_list=compiler_engines)\n",
    "\n",
    "qubits = engine.allocate_qureg(2)\n",
    "q1 = qubits[0]\n",
    "q2 = qubits[1]\n",
    "\n",
    "H | q1\n",
    "CNOT | (q1, q2)\n",
    "All(Measure) | qubits\n",
    "\n",
    "engine.flush()\n",
    "\n",
    "print('\\nMeasured: {0}'.format([int(q) for q in qubits]))\n",
    "print('Probabilities {0}'.format(qi_backend.get_probabilities(qubits)))"
   ]
  }
 ],
 "metadata": {
  "kernelspec": {
   "display_name": ".venv",
   "language": "python",
   "name": "python3"
  },
  "language_info": {
   "codemirror_mode": {
    "name": "ipython",
    "version": 3
   },
   "file_extension": ".py",
   "mimetype": "text/x-python",
   "name": "python",
   "nbconvert_exporter": "python",
   "pygments_lexer": "ipython3",
   "version": "3.9.6"
  }
 },
 "nbformat": 4,
 "nbformat_minor": 2
}
